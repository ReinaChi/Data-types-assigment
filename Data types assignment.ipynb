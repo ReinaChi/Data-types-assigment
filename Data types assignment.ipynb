{
 "cells": [
  {
   "cell_type": "markdown",
   "id": "b9a6b03d",
   "metadata": {},
   "source": [
    "# ASSIGNMENT ON DATA TYPES"
   ]
  },
  {
   "cell_type": "markdown",
   "id": "cea8b497",
   "metadata": {},
   "source": [
    "This notebook contains answers to the assignment given after the class on data types, methods and functions"
   ]
  },
  {
   "cell_type": "markdown",
   "id": "d6dd7cf2",
   "metadata": {},
   "source": [
    "Question 1"
   ]
  },
  {
   "cell_type": "code",
   "execution_count": null,
   "id": "8e7700d1",
   "metadata": {},
   "outputs": [],
   "source": [
    "variable = 'name that refers to a value'\n",
    "variable1 = 'name used to identify a set of values'"
   ]
  },
  {
   "cell_type": "code",
   "execution_count": 5,
   "id": "7ac923fa",
   "metadata": {},
   "outputs": [],
   "source": [
    "socialmedia = 'twitter, facebook'\n",
    "complient = 'beautiful, alluring'\n",
    "figures = '70000'\n",
    "_fact = 'kadatemy is good'\n",
    "_fact1 = 'i am pretty and tall'\n",
    "\n"
   ]
  },
  {
   "cell_type": "markdown",
   "id": "1476e956",
   "metadata": {},
   "source": [
    "Question 2 and 3"
   ]
  },
  {
   "cell_type": "code",
   "execution_count": 4,
   "id": "ad414ff6",
   "metadata": {},
   "outputs": [
    {
     "name": "stdout",
     "output_type": "stream",
     "text": [
      "<class 'str'>\n",
      "<class 'str'>\n",
      "<class 'float'>\n",
      "<class 'int'>\n",
      "<class 'str'>\n"
     ]
    }
   ],
   "source": [
    "b = 'False'\n",
    "print(type(b))\n",
    "number = \"1000\"\n",
    "print(type(number))\n",
    "radius = 7.0\n",
    "print(type(radius))\n",
    "diameter = 14\n",
    "print(type(diameter))\n",
    "country = 'Nigeria'\n",
    "print(type(country))"
   ]
  },
  {
   "cell_type": "markdown",
   "id": "5006d889",
   "metadata": {},
   "source": [
    "Question 4"
   ]
  },
  {
   "cell_type": "code",
   "execution_count": null,
   "id": "a47951b5",
   "metadata": {},
   "outputs": [],
   "source": [
    "variable ='You're right, he won't agree to this deal.'\n",
    "correct = \"You're right, he won't agree to this deal.\""
   ]
  },
  {
   "cell_type": "markdown",
   "id": "1c3f3d00",
   "metadata": {},
   "source": [
    "Question 5"
   ]
  },
  {
   "cell_type": "code",
   "execution_count": 60,
   "id": "910c2510",
   "metadata": {},
   "outputs": [
    {
     "data": {
      "text/plain": [
       "False"
      ]
     },
     "execution_count": 60,
     "metadata": {},
     "output_type": "execute_result"
    }
   ],
   "source": [
    "bee = \"15.55\"\n",
    "bee.islower()\n"
   ]
  },
  {
   "cell_type": "markdown",
   "id": "82fdccb2",
   "metadata": {},
   "source": [
    "The float has no variable thus wasnt described \n",
    "Got error message (float object has no attribute) when intry to run it without \"\" \n",
    "Numbers cant be the first character when writing a variable in Python, should start with a letter or '_'\n",
    "String method (islower) used on letters and there is no statement for comparison"
   ]
  },
  {
   "cell_type": "markdown",
   "id": "f2d2929c",
   "metadata": {},
   "source": [
    "Question 6"
   ]
  },
  {
   "cell_type": "code",
   "execution_count": 6,
   "id": "e50292c2",
   "metadata": {},
   "outputs": [
    {
     "name": "stdout",
     "output_type": "stream",
     "text": [
      "i miss my family, ...getting used to this place\n",
      "i'm feeling vibes on vibes, blow your candle light...\n"
     ]
    }
   ],
   "source": [
    "thought = 'i miss my family, ...getting used to this place'\n",
    "print(thought)\n",
    "_music = \"i'm feeling vibes on vibes, blow your candle light...\"\n",
    "print(_music)"
   ]
  },
  {
   "cell_type": "markdown",
   "id": "488e1806",
   "metadata": {},
   "source": [
    "Question 7"
   ]
  },
  {
   "cell_type": "code",
   "execution_count": 11,
   "id": "8cc5f557",
   "metadata": {},
   "outputs": [
    {
     "name": "stdout",
     "output_type": "stream",
     "text": [
      "Faith accessed the site  http://kadatemy.com/courses/pythonfordatascience/class1 at 07:50\n"
     ]
    }
   ],
   "source": [
    "username = \"Faith \"\n",
    "timestamp = \" 07:50\"\n",
    "url = \" http://kadatemy.com/courses/pythonfordatascience/class1\"\n",
    "verb = 'accessed the site '\n",
    "word = ' at'\n",
    "print(username+verb+url+word+timestamp)"
   ]
  },
  {
   "cell_type": "markdown",
   "id": "131c504b",
   "metadata": {},
   "source": [
    "Question 8"
   ]
  },
  {
   "cell_type": "code",
   "execution_count": 40,
   "id": "f2b79d0f",
   "metadata": {
    "scrolled": true
   },
   "outputs": [
    {
     "name": "stdout",
     "output_type": "stream",
     "text": [
      "95\n",
      "P\n"
     ]
    },
    {
     "data": {
      "text/plain": [
       "7"
      ]
     },
     "execution_count": 40,
     "metadata": {},
     "output_type": "execute_result"
    }
   ],
   "source": [
    "str1 = \"Python exercises are fun. It is very satisfying to solve problems using this computer language.\"\n",
    "print(len(str1))\n",
    "print(str1[0])\n",
    "str1[-1]\n",
    "str1.find(\"exercises\")\n",
    "\n"
   ]
  },
  {
   "cell_type": "code",
   "execution_count": 49,
   "id": "48bc5620",
   "metadata": {},
   "outputs": [
    {
     "name": "stdout",
     "output_type": "stream",
     "text": [
      "86\n"
     ]
    },
    {
     "data": {
      "text/plain": [
       "'Py '"
      ]
     },
     "execution_count": 49,
     "metadata": {},
     "output_type": "execute_result"
    }
   ],
   "source": [
    "str2 = str1.find(\"language\")\n",
    "print(str2)\n",
    "str3 = (\"Py \")\n",
    "str3"
   ]
  },
  {
   "cell_type": "code",
   "execution_count": 53,
   "id": "d0959cfd",
   "metadata": {},
   "outputs": [
    {
     "name": "stdout",
     "output_type": "stream",
     "text": [
      "9\n"
     ]
    }
   ],
   "source": [
    "str1.count(\"e\")"
   ]
  },
  {
   "cell_type": "code",
   "execution_count": 54,
   "id": "a1ddf9c1",
   "metadata": {},
   "outputs": [
    {
     "name": "stdout",
     "output_type": "stream",
     "text": [
      "9\n"
     ]
    }
   ],
   "source": [
    "str4 = str1.count(\"s\")\n",
    "print(str4)"
   ]
  },
  {
   "cell_type": "markdown",
   "id": "dcc9a790",
   "metadata": {},
   "source": [
    "Question 9"
   ]
  },
  {
   "cell_type": "code",
   "execution_count": 67,
   "id": "21a1137e",
   "metadata": {},
   "outputs": [
    {
     "data": {
      "text/plain": [
       "\"I'm enjoying this a lot! I could do with more exercises.\""
      ]
     },
     "execution_count": 67,
     "metadata": {},
     "output_type": "execute_result"
    }
   ],
   "source": [
    "str5 =  \" I'm enjoying this a lot! I could do with more exercises. \"\n",
    "str5.strip()\n"
   ]
  },
  {
   "cell_type": "code",
   "execution_count": 68,
   "id": "c5c79d9e",
   "metadata": {},
   "outputs": [
    {
     "data": {
      "text/plain": [
       "False"
      ]
     },
     "execution_count": 68,
     "metadata": {},
     "output_type": "execute_result"
    }
   ],
   "source": [
    "str5.isnumeric()"
   ]
  },
  {
   "cell_type": "markdown",
   "id": "5624c031",
   "metadata": {},
   "source": [
    "The output is false meaning that there are no numbers in the string"
   ]
  },
  {
   "cell_type": "code",
   "execution_count": 69,
   "id": "73c5b9a1",
   "metadata": {},
   "outputs": [
    {
     "data": {
      "text/plain": [
       "52"
      ]
     },
     "execution_count": 69,
     "metadata": {},
     "output_type": "execute_result"
    }
   ],
   "source": [
    "str5.rindex(\"i\")\n"
   ]
  },
  {
   "cell_type": "markdown",
   "id": "3a162a45",
   "metadata": {},
   "source": [
    "Question 10\n"
   ]
  },
  {
   "cell_type": "code",
   "execution_count": 71,
   "id": "8445346d",
   "metadata": {},
   "outputs": [
    {
     "data": {
      "text/plain": [
       "\"Python exercises are fun. It is very satisfying to solve problems using this computer language. I'm enjoying this a lot! I could do with more exercises.\""
      ]
     },
     "execution_count": 71,
     "metadata": {},
     "output_type": "execute_result"
    }
   ],
   "source": [
    "str1 = \"Python exercises are fun. It is very satisfying to solve problems using this computer language.\"\n",
    "str5 =  \" I'm enjoying this a lot! I could do with more exercises.\"\n",
    "str1 + str5"
   ]
  },
  {
   "cell_type": "markdown",
   "id": "fa79d820",
   "metadata": {},
   "source": [
    "Question 11"
   ]
  },
  {
   "cell_type": "code",
   "execution_count": 72,
   "id": "185b3698",
   "metadata": {},
   "outputs": [
    {
     "data": {
      "text/plain": [
       "True"
      ]
     },
     "execution_count": 72,
     "metadata": {},
     "output_type": "execute_result"
    }
   ],
   "source": [
    "x = \"3490003\"\n",
    "x.isdigit()"
   ]
  }
 ],
 "metadata": {
  "kernelspec": {
   "display_name": "Python 3",
   "language": "python",
   "name": "python3"
  },
  "language_info": {
   "codemirror_mode": {
    "name": "ipython",
    "version": 3
   },
   "file_extension": ".py",
   "mimetype": "text/x-python",
   "name": "python",
   "nbconvert_exporter": "python",
   "pygments_lexer": "ipython3",
   "version": "3.8.8"
  }
 },
 "nbformat": 4,
 "nbformat_minor": 5
}
